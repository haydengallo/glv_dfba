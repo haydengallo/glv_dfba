{
 "cells": [
  {
   "cell_type": "code",
   "execution_count": 9,
   "metadata": {},
   "outputs": [
    {
     "ename": "ModuleNotFoundError",
     "evalue": "No module named 'helper_functions'",
     "output_type": "error",
     "traceback": [
      "\u001b[31m---------------------------------------------------------------------------\u001b[39m",
      "\u001b[31mModuleNotFoundError\u001b[39m                       Traceback (most recent call last)",
      "\u001b[36mCell\u001b[39m\u001b[36m \u001b[39m\u001b[32mIn[9]\u001b[39m\u001b[32m, line 20\u001b[39m\n\u001b[32m     18\u001b[39m \u001b[38;5;28;01mfrom\u001b[39;00m\u001b[38;5;250m \u001b[39m\u001b[34;01mcobra\u001b[39;00m\u001b[34;01m.\u001b[39;00m\u001b[34;01mflux_analysis\u001b[39;00m\u001b[34;01m.\u001b[39;00m\u001b[34;01mgapfilling\u001b[39;00m\u001b[38;5;250m \u001b[39m\u001b[38;5;28;01mimport\u001b[39;00m GapFiller\n\u001b[32m     19\u001b[39m \u001b[38;5;28;01mfrom\u001b[39;00m\u001b[38;5;250m \u001b[39m\u001b[34;01mpathlib\u001b[39;00m\u001b[38;5;250m \u001b[39m\u001b[38;5;28;01mimport\u001b[39;00m Path\n\u001b[32m---> \u001b[39m\u001b[32m20\u001b[39m \u001b[38;5;28;01mfrom\u001b[39;00m\u001b[38;5;250m \u001b[39m\u001b[34;01mhelper_functions\u001b[39;00m\u001b[38;5;250m \u001b[39m\u001b[38;5;28;01mimport\u001b[39;00m *\n",
      "\u001b[31mModuleNotFoundError\u001b[39m: No module named 'helper_functions'"
     ]
    }
   ],
   "source": [
    "### Hayden Gallo\n",
    "### Bucci Lab\n",
    "### 6/17/25\n",
    "### Gapfilling genome scale metabolic models for MDSINE FBA\n",
    "\n",
    "import numpy as np\n",
    "#from dfba import DfbaModel, ExchangeFlux, KineticVariable\n",
    "import cobra\n",
    "import pandas as pd\n",
    "import seaborn as sns\n",
    "import matplotlib.pyplot as plt\n",
    "import math\n",
    "import sys\n",
    "import os\n",
    "import gurobipy\n",
    "import gzip\n",
    "from cobra.io import read_sbml_model\n",
    "from cobra.flux_analysis.gapfilling import GapFiller\n",
    "from pathlib import Path\n",
    "from helper_functions import *"
   ]
  },
  {
   "cell_type": "code",
   "execution_count": 2,
   "metadata": {},
   "outputs": [
    {
     "name": "stdout",
     "output_type": "stream",
     "text": [
      "Set parameter Username\n",
      "Academic license - for non-commercial use only - expires 2026-05-30\n"
     ]
    }
   ],
   "source": [
    "### Load in the universal bacterial GEM from carveme \n",
    "\n",
    "with gzip.open(\"/Users/haydengallo/anaconda3/envs/carveme/lib/python3.13/site-packages/carveme/data/generated/universe_bacteria.xml.gz\", \"rt\") as f:\n",
    "    universal = read_sbml_model(f)\n",
    "\n",
    "\n"
   ]
  },
  {
   "cell_type": "code",
   "execution_count": 3,
   "metadata": {},
   "outputs": [
    {
     "name": "stderr",
     "output_type": "stream",
     "text": [
      "No defined compartments in model model. Compartments will be deduced heuristically using regular expressions.\n",
      "Using regular expression found the following compartments:c, e\n"
     ]
    },
    {
     "name": "stdout",
     "output_type": "stream",
     "text": [
      "Allobaculum_stercoricanis\n"
     ]
    },
    {
     "name": "stderr",
     "output_type": "stream",
     "text": [
      "No defined compartments in model model. Compartments will be deduced heuristically using regular expressions.\n",
      "Using regular expression found the following compartments:c, e\n"
     ]
    },
    {
     "name": "stdout",
     "output_type": "stream",
     "text": [
      "Bifidobacterium_pseudolongum\n"
     ]
    },
    {
     "name": "stderr",
     "output_type": "stream",
     "text": [
      "No defined compartments in model model. Compartments will be deduced heuristically using regular expressions.\n",
      "Using regular expression found the following compartments:c, e\n"
     ]
    },
    {
     "name": "stdout",
     "output_type": "stream",
     "text": [
      "Enterococcus_faecalis\n"
     ]
    },
    {
     "name": "stderr",
     "output_type": "stream",
     "text": [
      "No defined compartments in model model. Compartments will be deduced heuristically using regular expressions.\n",
      "Using regular expression found the following compartments:c, e\n"
     ]
    },
    {
     "name": "stdout",
     "output_type": "stream",
     "text": [
      "Eubacterium_limosum\n"
     ]
    },
    {
     "name": "stderr",
     "output_type": "stream",
     "text": [
      "No defined compartments in model model. Compartments will be deduced heuristically using regular expressions.\n",
      "Using regular expression found the following compartments:c, e\n"
     ]
    },
    {
     "name": "stdout",
     "output_type": "stream",
     "text": [
      "Granulicatella_elegans\n"
     ]
    },
    {
     "name": "stderr",
     "output_type": "stream",
     "text": [
      "No defined compartments in model model. Compartments will be deduced heuristically using regular expressions.\n",
      "Using regular expression found the following compartments:c, e\n"
     ]
    },
    {
     "name": "stdout",
     "output_type": "stream",
     "text": [
      "Lactobacillus_amylovorus\n"
     ]
    },
    {
     "name": "stderr",
     "output_type": "stream",
     "text": [
      "No defined compartments in model model. Compartments will be deduced heuristically using regular expressions.\n",
      "Using regular expression found the following compartments:c, e\n"
     ]
    },
    {
     "name": "stdout",
     "output_type": "stream",
     "text": [
      "Lactobacillus_animalis\n"
     ]
    },
    {
     "name": "stderr",
     "output_type": "stream",
     "text": [
      "No defined compartments in model model. Compartments will be deduced heuristically using regular expressions.\n",
      "Using regular expression found the following compartments:c, e\n"
     ]
    },
    {
     "name": "stdout",
     "output_type": "stream",
     "text": [
      "Lactobacillus_gasseri\n"
     ]
    },
    {
     "name": "stderr",
     "output_type": "stream",
     "text": [
      "No defined compartments in model model. Compartments will be deduced heuristically using regular expressions.\n",
      "Using regular expression found the following compartments:c, e\n"
     ]
    },
    {
     "name": "stdout",
     "output_type": "stream",
     "text": [
      "Lactobacillus_reuteri\n"
     ]
    },
    {
     "name": "stderr",
     "output_type": "stream",
     "text": [
      "No defined compartments in model model. Compartments will be deduced heuristically using regular expressions.\n",
      "Using regular expression found the following compartments:c, e\n"
     ]
    },
    {
     "name": "stdout",
     "output_type": "stream",
     "text": [
      "Merdibacter_massiliensis\n"
     ]
    },
    {
     "name": "stderr",
     "output_type": "stream",
     "text": [
      "No defined compartments in model model. Compartments will be deduced heuristically using regular expressions.\n",
      "Using regular expression found the following compartments:c, e, p\n"
     ]
    },
    {
     "name": "stdout",
     "output_type": "stream",
     "text": [
      "Muribaculum_intestinale\n"
     ]
    },
    {
     "name": "stderr",
     "output_type": "stream",
     "text": [
      "No defined compartments in model model. Compartments will be deduced heuristically using regular expressions.\n",
      "Using regular expression found the following compartments:c, e\n"
     ]
    },
    {
     "name": "stdout",
     "output_type": "stream",
     "text": [
      "Nosocomiicoccus_massiliensis\n"
     ]
    },
    {
     "name": "stderr",
     "output_type": "stream",
     "text": [
      "No defined compartments in model model. Compartments will be deduced heuristically using regular expressions.\n",
      "Using regular expression found the following compartments:c, e\n"
     ]
    },
    {
     "name": "stdout",
     "output_type": "stream",
     "text": [
      "Ruminococcus_bicirculans\n"
     ]
    },
    {
     "name": "stderr",
     "output_type": "stream",
     "text": [
      "No defined compartments in model model. Compartments will be deduced heuristically using regular expressions.\n",
      "Using regular expression found the following compartments:c, e\n"
     ]
    },
    {
     "name": "stdout",
     "output_type": "stream",
     "text": [
      "Staphylococcus_equorum\n"
     ]
    },
    {
     "name": "stderr",
     "output_type": "stream",
     "text": [
      "No defined compartments in model model. Compartments will be deduced heuristically using regular expressions.\n",
      "Using regular expression found the following compartments:c, e\n"
     ]
    },
    {
     "name": "stdout",
     "output_type": "stream",
     "text": [
      "Staphylococcus_xylosus\n"
     ]
    },
    {
     "name": "stderr",
     "output_type": "stream",
     "text": [
      "No defined compartments in model model. Compartments will be deduced heuristically using regular expressions.\n",
      "Using regular expression found the following compartments:c, e\n"
     ]
    },
    {
     "name": "stdout",
     "output_type": "stream",
     "text": [
      "Turicibacter_sp\n"
     ]
    },
    {
     "name": "stderr",
     "output_type": "stream",
     "text": [
      "No defined compartments in model relaxedModel. Compartments will be deduced heuristically using regular expressions.\n",
      "Using regular expression found the following compartments:c, e\n"
     ]
    },
    {
     "name": "stdout",
     "output_type": "stream",
     "text": [
      "n_massi\n"
     ]
    }
   ],
   "source": [
    "### Load in the AGORA model I want to gapfill\n",
    "\n",
    "### load the cobra models into memory i guess\n",
    "\n",
    "cobra_models_dir = Path('/Users/haydengallo/UMass_Dropbox/Dropbox (UMass Medical School)/Bucci_Lab/glv_FBA/gLV_FBA_test_Kennedy_et_al_2025/processed_data_filtered_RC_all_cohorts/all_strains_agora')\n",
    "\n",
    "# Make the data and validation Study objects\n",
    "cobra_models = sorted(cobra_models_dir.glob('*.mat'))\n",
    "cobra_models = {f.stem : f for f in cobra_models}\n",
    "\n",
    "\n",
    "### Just loading the models needed in \n",
    "\n",
    "loaded_models = {}\n",
    "\n",
    "#count = 0\n",
    "\n",
    "for key in cobra_models:\n",
    "    #if count == 1:\n",
    "    #    break\n",
    "    #print(key.split('_'))\n",
    "    model_name = key.split('_')[0] + '_' + key.split('_')[1]\n",
    "    print(model_name)\n",
    "    model = cobra.io.load_matlab_model(cobra_models[key])\n",
    "    loaded_models[model_name] = model\n",
    "    #count+=1\n"
   ]
  },
  {
   "cell_type": "code",
   "execution_count": 4,
   "metadata": {},
   "outputs": [
    {
     "data": {
      "text/plain": [
       "{'EX_12kltchca(e)': 0.0,\n",
       " 'EX_drib(e)': 0.0,\n",
       " 'EX_5oxpro(e)': 0.131,\n",
       " 'EX_ala_l(e)': 0.836,\n",
       " 'EX_all_d(e)': 0.029,\n",
       " 'EX_arab_l(e)': 0.055,\n",
       " 'EX_asn_l(e)': 0.0,\n",
       " 'EX_asp_l(e)': 0.398,\n",
       " 'EX_cellb(e)': 0.0,\n",
       " 'EX_cholate(e)': 0.0,\n",
       " 'EX_cit(e)': 1.046,\n",
       " 'EX_cys_l(e)': 1.989,\n",
       " 'EX_dca(e)': 0.046,\n",
       " 'EX_dchac(e)': 0.028,\n",
       " 'EX_ddca(e)': 0.038,\n",
       " 'EX_galt(e)': 0.0,\n",
       " 'EX_fru(e)': 2.506,\n",
       " 'EX_fuc_l(e)': 0.0,\n",
       " 'EX_fum(e)': 0.072,\n",
       " 'EX_gal(e)': 0.048,\n",
       " 'EX_glc_d(e)': 0.612,\n",
       " 'EX_glu_l(e)': 0.017,\n",
       " 'EX_gly(e)': 0.072,\n",
       " 'EX_hxa(e)': 0.059,\n",
       " 'EX_his_l(e)': 0.0,\n",
       " 'EX_indole(e)': 0.0,\n",
       " 'EX_ile_l(e)': 0.387,\n",
       " 'EX_leu_l(e)': 0.644,\n",
       " 'EX_lnlcacp(e)': 5.732,\n",
       " 'EX_hc02191(e)': 0.0,\n",
       " 'EX_lys_l(e)': 0.0,\n",
       " 'EX_mal_l(e)': 0.382,\n",
       " 'EX_melib(e)': 0.021,\n",
       " 'EX_met_l(e)': 4.781,\n",
       " 'EX_ttdca(e)': 0.696,\n",
       " 'EX_acgam(e)': 0.0,\n",
       " 'EX_nac(e)': 0.172,\n",
       " 'EX_octa(e)': 0.13,\n",
       " 'EX_orn_l(e)': 0.0,\n",
       " 'EX_hdca(e)': 0.599,\n",
       " 'EX_phe_l(e)': 0.115,\n",
       " 'EX_c10164(e)': 0.064,\n",
       " 'EX_pro_l(e)': 2.307,\n",
       " 'EX_pyr(e)': 0.032,\n",
       " 'EX_raffin(e)': 1.192,\n",
       " 'EX_rmn(e)': 0.027,\n",
       " 'EX_rib_d(e)': 0.0,\n",
       " 'EX_ser_d(e)': 0.211,\n",
       " 'EX_succ(e)': 0.056,\n",
       " 'EX_sucr(e)': 32.513,\n",
       " 'EX_thr_l(e)': 0.033,\n",
       " 'EX_tyr_l(e)': 0.093,\n",
       " 'EX_hc02194(e)': 0.0,\n",
       " 'EX_pta(e)': 0.027,\n",
       " 'EX_val_l(e)': 0.121,\n",
       " 'EX_akg(e)': 0.0,\n",
       " 'EX_ocdca(e)': 3.842,\n",
       " 'EX_erythritol(e)': 0.064,\n",
       " 'EX_inost(e)': 0.502,\n",
       " 'EX_4hprolt(e)': 0.004,\n",
       " 'EX_12dgr180(e)': 0.001,\n",
       " 'EX_26dap_M(e)': 0.001,\n",
       " 'EX_2dmmq8(e)': 0.001,\n",
       " 'EX_4abz(e)': 0.001,\n",
       " 'EX_4hbz(e)': 0.001,\n",
       " 'EX_ade(e)': 0.001,\n",
       " 'EX_ala_L(e)': 0.001,\n",
       " 'EX_alagln(e)': 0.001,\n",
       " 'EX_alaglu(e)': 0.001,\n",
       " 'EX_alahis(e)': 0.001,\n",
       " 'EX_alaleu(e)': 0.001,\n",
       " 'EX_alathr(e)': 0.001,\n",
       " 'EX_arg_L(e)': 0.001,\n",
       " 'EX_asn_L(e)': 0.001,\n",
       " 'EX_asp_L(e)': 0.001,\n",
       " 'EX_ca2(e)': 0.001,\n",
       " 'EX_cgly(e)': 0.001,\n",
       " 'EX_cl(e)': 0.001,\n",
       " 'EX_co2(e)': 0.001,\n",
       " 'EX_cobalt2(e)': 0.001,\n",
       " 'EX_csn(e)': 0.001,\n",
       " 'EX_cu2(e)': 0.001,\n",
       " 'EX_cys_L(e)': 0.001,\n",
       " 'EX_cytd(e)': 0.001,\n",
       " 'EX_dad_2(e)': 0.001,\n",
       " 'EX_dgsn(e)': 0.001,\n",
       " 'EX_dpcoa(e)': 0.001,\n",
       " 'EX_fe2(e)': 0.001,\n",
       " 'EX_fe3(e)': 0.001,\n",
       " 'EX_fol(e)': 0.001,\n",
       " 'EX_gam(e)': 0.001,\n",
       " 'EX_glu_L(e)': 0.001,\n",
       " 'EX_glyasn(e)': 0.001,\n",
       " 'EX_glyasp(e)': 0.001,\n",
       " 'EX_glyc(e)': 0.001,\n",
       " 'EX_glyc3p(e)': 0.001,\n",
       " 'EX_glycys(e)': 0.001,\n",
       " 'EX_glygln(e)': 0.001,\n",
       " 'EX_glyglu(e)': 0.001,\n",
       " 'EX_glyleu(e)': 0.001,\n",
       " 'EX_glymet(e)': 0.001,\n",
       " 'EX_glyphe(e)': 0.001,\n",
       " 'EX_glypro(e)': 0.001,\n",
       " 'EX_glytyr(e)': 0.001,\n",
       " 'EX_gthox(e)': 0.001,\n",
       " 'EX_gua(e)': 0.001,\n",
       " 'EX_his_L(e)': 0.001,\n",
       " 'EX_hxan(e)': 0.001,\n",
       " 'EX_ile_L(e)': 0.001,\n",
       " 'EX_ins(e)': 0.001,\n",
       " 'EX_k(e)': 0.001,\n",
       " 'EX_leu_L(e)': 0.001,\n",
       " 'EX_lys_L(e)': 0.001,\n",
       " 'EX_met_L(e)': 0.001,\n",
       " 'EX_metala(e)': 0.001,\n",
       " 'EX_metsox_S_L(e)': 0.001,\n",
       " 'EX_mg2(e)': 0.001,\n",
       " 'EX_mn2(e)': 0.001,\n",
       " 'EX_mqn7(e)': 0.001,\n",
       " 'EX_mqn8(e)': 0.001,\n",
       " 'EX_nh4(e)': 0.001,\n",
       " 'EX_nmn(e)': 0.001,\n",
       " 'EX_o2(e)': 0.001,\n",
       " 'EX_orn(e)': 0.001,\n",
       " 'EX_orot(e)': 0.001,\n",
       " 'EX_phe_L(e)': 0.001,\n",
       " 'EX_pheme(e)': 0.001,\n",
       " 'EX_pi(e)': 0.001,\n",
       " 'EX_pnto_R(e)': 0.001,\n",
       " 'EX_pro_L(e)': 0.001,\n",
       " 'EX_ptrc(e)': 0.001,\n",
       " 'EX_pydx(e)': 0.001,\n",
       " 'EX_pydx5p(e)': 0.001,\n",
       " 'EX_q8(e)': 0.001,\n",
       " 'EX_ribflv(e)': 0.001,\n",
       " 'EX_ser_L(e)': 0.001,\n",
       " 'EX_sheme(e)': 0.001,\n",
       " 'EX_so4(e)': 0.001,\n",
       " 'EX_spmd(e)': 0.001,\n",
       " 'EX_stys(e)': 0.001,\n",
       " 'EX_thm(e)': 0.001,\n",
       " 'EX_thr_L(e)': 0.001,\n",
       " 'EX_thymd(e)': 0.001,\n",
       " 'EX_trp_L(e)': 0.001,\n",
       " 'EX_tsul(e)': 0.001,\n",
       " 'EX_tyr_L(e)': 0.001,\n",
       " 'EX_ura(e)': 0.001,\n",
       " 'EX_val_L(e)': 0.001,\n",
       " 'EX_zn2(e)': 0.001}"
      ]
     },
     "execution_count": 4,
     "metadata": {},
     "output_type": "execute_result"
    }
   ],
   "source": [
    "### Load in the Media conditions to gapfill from \n",
    "\n",
    "### Load in diet data that will be applied in intervals \n",
    "\n",
    "RC_diet = pd.read_csv('/Users/haydengallo/UMass_Dropbox/Dropbox (UMass Medical School)/Bucci_Lab/glv_FBA/gLV_FBA_test_Kennedy_et_al_2025/RC_diet_add.csv', header=None)\n",
    "RC_diet.columns = ['reaction','fluxValue','upper_bound']\n",
    "RC_diet = RC_diet[['reaction', 'fluxValue']]\n",
    "RC_diet['fluxValue'] =  -1.0*(np.double(RC_diet['fluxValue']))\n",
    "\n",
    "## Multiply by 5g over 12 hours\n",
    "#RC_diet['fluxValue'] = ((5/48)*RC_diet['fluxValue'])\n",
    "RC_diet.head()\n",
    "RC_diet_dict = dict(zip(RC_diet['reaction'], RC_diet['fluxValue']))\n",
    "RC_diet_dict"
   ]
  },
  {
   "cell_type": "code",
   "execution_count": 8,
   "metadata": {},
   "outputs": [
    {
     "ename": "KeyError",
     "evalue": "'EX_12kltchca(e)'",
     "output_type": "error",
     "traceback": [
      "\u001b[31m---------------------------------------------------------------------------\u001b[39m",
      "\u001b[31mKeyError\u001b[39m                                  Traceback (most recent call last)",
      "\u001b[36mCell\u001b[39m\u001b[36m \u001b[39m\u001b[32mIn[8]\u001b[39m\u001b[32m, line 3\u001b[39m\n\u001b[32m      1\u001b[39m \u001b[38;5;66;03m### Set the medium for the model of interest\u001b[39;00m\n\u001b[32m----> \u001b[39m\u001b[32m3\u001b[39m \u001b[43mloaded_models\u001b[49m\u001b[43m[\u001b[49m\u001b[33;43m'\u001b[39;49m\u001b[33;43mAllobaculum_stercoricanis\u001b[39;49m\u001b[33;43m'\u001b[39;49m\u001b[43m]\u001b[49m\u001b[43m.\u001b[49m\u001b[43mmedium\u001b[49m = RC_diet_dict\n",
      "\u001b[36mFile \u001b[39m\u001b[32m~/anaconda3/envs/carveme/lib/python3.13/site-packages/cobra/core/model.py:355\u001b[39m, in \u001b[36mModel.medium\u001b[39m\u001b[34m(self, medium)\u001b[39m\n\u001b[32m    353\u001b[39m exchange_rxns = \u001b[38;5;28mfrozenset\u001b[39m(\u001b[38;5;28mself\u001b[39m.exchanges)\n\u001b[32m    354\u001b[39m \u001b[38;5;28;01mfor\u001b[39;00m rxn_id, rxn_bound \u001b[38;5;129;01min\u001b[39;00m medium.items():\n\u001b[32m--> \u001b[39m\u001b[32m355\u001b[39m     rxn = \u001b[38;5;28;43mself\u001b[39;49m\u001b[43m.\u001b[49m\u001b[43mreactions\u001b[49m\u001b[43m.\u001b[49m\u001b[43mget_by_id\u001b[49m\u001b[43m(\u001b[49m\u001b[43mrxn_id\u001b[49m\u001b[43m)\u001b[49m\n\u001b[32m    356\u001b[39m     \u001b[38;5;28;01mif\u001b[39;00m rxn \u001b[38;5;129;01mnot\u001b[39;00m \u001b[38;5;129;01min\u001b[39;00m exchange_rxns:\n\u001b[32m    357\u001b[39m         logger.warning(\n\u001b[32m    358\u001b[39m             \u001b[33mf\u001b[39m\u001b[33m\"\u001b[39m\u001b[38;5;132;01m{\u001b[39;00mrxn.id\u001b[38;5;132;01m}\u001b[39;00m\u001b[33m does not seem to be an an exchange reaction. \u001b[39m\u001b[33m\"\u001b[39m\n\u001b[32m    359\u001b[39m             \u001b[33mf\u001b[39m\u001b[33m\"\u001b[39m\u001b[33mApplying bounds anyway.\u001b[39m\u001b[33m\"\u001b[39m\n\u001b[32m    360\u001b[39m         )\n",
      "\u001b[36mFile \u001b[39m\u001b[32m~/anaconda3/envs/carveme/lib/python3.13/site-packages/cobra/core/dictlist.py:73\u001b[39m, in \u001b[36mDictList.get_by_id\u001b[39m\u001b[34m(self, id)\u001b[39m\n\u001b[32m     71\u001b[39m \u001b[38;5;28;01mdef\u001b[39;00m\u001b[38;5;250m \u001b[39m\u001b[34mget_by_id\u001b[39m(\u001b[38;5;28mself\u001b[39m, \u001b[38;5;28mid\u001b[39m: Union[Object, \u001b[38;5;28mstr\u001b[39m]) -> Object:\n\u001b[32m     72\u001b[39m \u001b[38;5;250m    \u001b[39m\u001b[33;03m\"\"\"Return the element with a matching id.\"\"\"\u001b[39;00m\n\u001b[32m---> \u001b[39m\u001b[32m73\u001b[39m     \u001b[38;5;28;01mreturn\u001b[39;00m \u001b[38;5;28mlist\u001b[39m.\u001b[34m__getitem__\u001b[39m(\u001b[38;5;28mself\u001b[39m, \u001b[38;5;28;43mself\u001b[39;49m\u001b[43m.\u001b[49m\u001b[43m_dict\u001b[49m\u001b[43m[\u001b[49m\u001b[38;5;28;43mid\u001b[39;49m\u001b[43m]\u001b[49m)\n",
      "\u001b[31mKeyError\u001b[39m: 'EX_12kltchca(e)'"
     ]
    }
   ],
   "source": [
    "### Set the medium for the model of interest\n",
    "\n",
    "loaded_models['Allobaculum_stercoricanis'].medium = RC_diet_dict\n",
    "\n"
   ]
  },
  {
   "cell_type": "code",
   "execution_count": null,
   "metadata": {},
   "outputs": [],
   "source": [
    "# Assume `model` is your AGORA model and `model.medium` is set\n",
    "gapfiller = GapFiller(model, universal, demand_reactions=False)\n",
    "solutions = gapfiller.fill()\n",
    "\n",
    "# Add first solution to your model\n",
    "for rxn in solutions[0]:\n",
    "    model.add_reactions([rxn])\n"
   ]
  }
 ],
 "metadata": {
  "kernelspec": {
   "display_name": "carveme",
   "language": "python",
   "name": "python3"
  },
  "language_info": {
   "codemirror_mode": {
    "name": "ipython",
    "version": 3
   },
   "file_extension": ".py",
   "mimetype": "text/x-python",
   "name": "python",
   "nbconvert_exporter": "python",
   "pygments_lexer": "ipython3",
   "version": "3.13.5"
  },
  "orig_nbformat": 4
 },
 "nbformat": 4,
 "nbformat_minor": 2
}
